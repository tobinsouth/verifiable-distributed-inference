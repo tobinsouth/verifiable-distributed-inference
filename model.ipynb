{
 "cells": [
  {
   "cell_type": "markdown",
   "source": [
    "Imports"
   ],
   "metadata": {
    "collapsed": false
   },
   "id": "60f257f99a2c0e65"
  },
  {
   "cell_type": "code",
   "execution_count": 1,
   "id": "initial_id",
   "metadata": {
    "collapsed": true,
    "ExecuteTime": {
     "end_time": "2024-03-12T23:54:04.813414Z",
     "start_time": "2024-03-12T23:54:01.981261Z"
    }
   },
   "outputs": [],
   "source": [
    "import os.path\n",
    "import torch\n",
    "from torch import nn\n",
    "from torch.utils.data import DataLoader\n",
    "from torchvision import datasets\n",
    "from torchvision.transforms import ToTensor"
   ]
  },
  {
   "cell_type": "markdown",
   "source": [
    "Constants"
   ],
   "metadata": {
    "collapsed": false
   },
   "id": "2d9daa1327d9a060"
  },
  {
   "cell_type": "code",
   "execution_count": 8,
   "outputs": [],
   "source": [
    "# Define constants\n",
    "device = (\n",
    "    \"cuda\"\n",
    "    if torch.cuda.is_available()\n",
    "    else \"mps\"\n",
    "    if torch.backends.mps.is_available()\n",
    "    else \"cpu\"\n",
    ")\n",
    "epochs = 5\n",
    "batch_size = 64\n",
    "MODEL_DIR = \"./model\"\n",
    "DATA_DIR = \"./data\"\n",
    "MODEL_FILE = \"model.onnx\""
   ],
   "metadata": {
    "collapsed": false,
    "ExecuteTime": {
     "end_time": "2024-03-12T23:55:54.748230Z",
     "start_time": "2024-03-12T23:55:54.744450Z"
    }
   },
   "id": "3e03bce4620a706a"
  },
  {
   "cell_type": "markdown",
   "source": [
    "Define Model, Train and Test"
   ],
   "metadata": {
    "collapsed": false
   },
   "id": "32c2c6b9ed6cc03a"
  },
  {
   "cell_type": "code",
   "execution_count": 4,
   "outputs": [],
   "source": [
    "# Define Model\n",
    "class Model(nn.Module):\n",
    "    def __init__(self):\n",
    "        super().__init__()\n",
    "        self.flatten = nn.Flatten()\n",
    "        self.linear_relu_stack = nn.Sequential(\n",
    "            nn.Linear(28 * 28, 512),\n",
    "            nn.ReLU(),\n",
    "            nn.Linear(512, 512),\n",
    "            nn.ReLU(),\n",
    "            nn.Linear(512, 10)\n",
    "        )\n",
    "\n",
    "    def forward(self, x):\n",
    "        x = self.flatten(x)\n",
    "        logits = self.linear_relu_stack(x)\n",
    "        return logits\n",
    "\n",
    "\n",
    "def train(dataloader, model, loss_fn, optimizer):\n",
    "    size = len(dataloader.dataset)\n",
    "    model.train()\n",
    "    for batch, (X, y) in enumerate(dataloader):\n",
    "        X, y = X.to(device), y.to(device)\n",
    "\n",
    "        pred = model(X)\n",
    "        loss = loss_fn(pred, y)\n",
    "        loss.backward()\n",
    "        optimizer.step()\n",
    "        optimizer.zero_grad()\n",
    "\n",
    "        if batch % 100 == 0:\n",
    "            loss, current = loss.item(), (batch + 1) * len(X)\n",
    "            print(f\"loss: {loss:>7f}  [{current:>5d}/{size:>5d}]\")\n",
    "\n",
    "\n",
    "def test(dataloader, model, loss_fn):\n",
    "    size = len(dataloader.dataset)\n",
    "    num_batches = len(dataloader)\n",
    "    model.eval()\n",
    "    test_loss, correct = 0, 0\n",
    "    with torch.no_grad():\n",
    "        for X, y in dataloader:\n",
    "            X, y = X.to(device), y.to(device)\n",
    "            pred = model(X)\n",
    "            test_loss += loss_fn(pred, y).item()\n",
    "            correct += (pred.argmax(1) == y).type(torch.float).sum().item()\n",
    "    test_loss /= num_batches\n",
    "    correct /= size\n",
    "    print(f\"Test Error: \\n Accuracy: {(100 * correct):>0.1f}%, Avg loss: {test_loss:>8f} \\n\")\n"
   ],
   "metadata": {
    "collapsed": false,
    "ExecuteTime": {
     "end_time": "2024-03-12T23:54:16.790692Z",
     "start_time": "2024-03-12T23:54:16.784942Z"
    }
   },
   "id": "33d8bea5542837b4"
  },
  {
   "cell_type": "markdown",
   "source": [
    "Setup Data"
   ],
   "metadata": {
    "collapsed": false
   },
   "id": "dcfdd86cd07c1712"
  },
  {
   "cell_type": "code",
   "execution_count": 9,
   "outputs": [
    {
     "name": "stdout",
     "output_type": "stream",
     "text": [
      "(Down)loaded MNIST dataset\n"
     ]
    }
   ],
   "source": [
    "os.makedirs(MODEL_DIR, exist_ok=True)\n",
    "os.makedirs(DATA_DIR, exist_ok=True)\n",
    "\n",
    "# (Down)load training data\n",
    "MNIST_folder_exists = os.path.exists(f\"{DATA_DIR}/MNIST\")\n",
    "train_data = datasets.MNIST(\n",
    "    root=DATA_DIR,\n",
    "    train=True,\n",
    "    download=(not MNIST_folder_exists),\n",
    "    transform=ToTensor()\n",
    ")\n",
    "train_dataloader = DataLoader(train_data, batch_size=batch_size)\n",
    "test_data = datasets.MNIST(\n",
    "    root=DATA_DIR,\n",
    "    train=False,\n",
    "    download=(not MNIST_folder_exists),\n",
    "    transform=ToTensor()\n",
    ")\n",
    "test_dataloader = DataLoader(test_data, batch_size=batch_size)\n",
    "print(\"(Down)loaded MNIST dataset\")"
   ],
   "metadata": {
    "collapsed": false,
    "ExecuteTime": {
     "end_time": "2024-03-12T23:56:06.792929Z",
     "start_time": "2024-03-12T23:56:06.706236Z"
    }
   },
   "id": "2adc0cfe54320373"
  },
  {
   "cell_type": "markdown",
   "source": [
    "Run & Train Model"
   ],
   "metadata": {
    "collapsed": false
   },
   "id": "303e4a640c6fcfc7"
  },
  {
   "cell_type": "code",
   "execution_count": 10,
   "outputs": [
    {
     "name": "stdout",
     "output_type": "stream",
     "text": [
      "Starting Training\n",
      "Epoch 1\n",
      "-------------------------------\n",
      "loss: 2.300229  [   64/60000]\n",
      "loss: 2.290937  [ 6464/60000]\n",
      "loss: 2.297893  [12864/60000]\n",
      "loss: 2.283237  [19264/60000]\n",
      "loss: 2.289847  [25664/60000]\n",
      "loss: 2.286259  [32064/60000]\n",
      "loss: 2.275497  [38464/60000]\n",
      "loss: 2.275464  [44864/60000]\n",
      "loss: 2.262816  [51264/60000]\n",
      "loss: 2.257689  [57664/60000]\n",
      "Test Error: \n",
      " Accuracy: 39.3%, Avg loss: 2.260411 \n",
      "\n",
      "Epoch 2\n",
      "-------------------------------\n",
      "loss: 2.256859  [   64/60000]\n",
      "loss: 2.245657  [ 6464/60000]\n",
      "loss: 2.262125  [12864/60000]\n",
      "loss: 2.226386  [19264/60000]\n",
      "loss: 2.243965  [25664/60000]\n",
      "loss: 2.241253  [32064/60000]\n",
      "loss: 2.219216  [38464/60000]\n",
      "loss: 2.235685  [44864/60000]\n",
      "loss: 2.203790  [51264/60000]\n",
      "loss: 2.195756  [57664/60000]\n",
      "Test Error: \n",
      " Accuracy: 55.4%, Avg loss: 2.200471 \n",
      "\n",
      "Epoch 3\n",
      "-------------------------------\n",
      "loss: 2.195444  [   64/60000]\n",
      "loss: 2.177927  [ 6464/60000]\n",
      "loss: 2.208945  [12864/60000]\n",
      "loss: 2.141970  [19264/60000]\n",
      "loss: 2.172138  [25664/60000]\n",
      "loss: 2.169297  [32064/60000]\n",
      "loss: 2.129693  [38464/60000]\n",
      "loss: 2.167169  [44864/60000]\n",
      "loss: 2.108304  [51264/60000]\n",
      "loss: 2.095164  [57664/60000]\n",
      "Test Error: \n",
      " Accuracy: 63.0%, Avg loss: 2.099324 \n",
      "\n",
      "Epoch 4\n",
      "-------------------------------\n",
      "loss: 2.092233  [   64/60000]\n",
      "loss: 2.063392  [ 6464/60000]\n",
      "loss: 2.115404  [12864/60000]\n",
      "loss: 2.000711  [19264/60000]\n",
      "loss: 2.046952  [25664/60000]\n",
      "loss: 2.041390  [32064/60000]\n",
      "loss: 1.976762  [38464/60000]\n",
      "loss: 2.043015  [44864/60000]\n",
      "loss: 1.944643  [51264/60000]\n",
      "loss: 1.923822  [57664/60000]\n",
      "Test Error: \n",
      " Accuracy: 68.0%, Avg loss: 1.922579 \n",
      "\n",
      "Epoch 5\n",
      "-------------------------------\n",
      "loss: 1.916274  [   64/60000]\n",
      "loss: 1.867335  [ 6464/60000]\n",
      "loss: 1.947142  [12864/60000]\n",
      "loss: 1.770937  [19264/60000]\n",
      "loss: 1.827723  [25664/60000]\n",
      "loss: 1.815619  [32064/60000]\n",
      "loss: 1.727601  [38464/60000]\n",
      "loss: 1.832952  [44864/60000]\n",
      "loss: 1.683739  [51264/60000]\n",
      "loss: 1.658763  [57664/60000]\n",
      "Test Error: \n",
      " Accuracy: 72.6%, Avg loss: 1.643931 \n",
      "\n",
      "Finished Training\n"
     ]
    }
   ],
   "source": [
    "# Instantiate Model\n",
    "model = Model().to(device)\n",
    "loss_fn = nn.CrossEntropyLoss()\n",
    "optimizer = torch.optim.SGD(model.parameters(), lr=1e-3)\n",
    "\n",
    "print(\"Starting Training\")\n",
    "for t in range(epochs):\n",
    "    print(f\"Epoch {t + 1}\\n-------------------------------\")\n",
    "    train(train_dataloader, model, loss_fn, optimizer)\n",
    "    test(test_dataloader, model, loss_fn)\n",
    "print(\"Finished Training\")"
   ],
   "metadata": {
    "collapsed": false,
    "ExecuteTime": {
     "end_time": "2024-03-12T23:57:05.578614Z",
     "start_time": "2024-03-12T23:56:17.013898Z"
    }
   },
   "id": "9a64e440fc74a80e"
  },
  {
   "cell_type": "markdown",
   "source": [
    "Save Model"
   ],
   "metadata": {
    "collapsed": false
   },
   "id": "fc34d3d5036f41a"
  },
  {
   "cell_type": "code",
   "execution_count": 22,
   "outputs": [
    {
     "name": "stdout",
     "output_type": "stream",
     "text": [
      "Exported graph: graph(%input : Float(1, 1, 28, 28, strides=[784, 784, 28, 1], requires_grad=0, device=mps:0),\n",
      "      %linear_relu_stack.0.weight : Float(512, 784, strides=[784, 1], requires_grad=1, device=mps:0),\n",
      "      %linear_relu_stack.0.bias : Float(512, strides=[1], requires_grad=1, device=mps:0),\n",
      "      %linear_relu_stack.2.weight : Float(512, 512, strides=[512, 1], requires_grad=1, device=mps:0),\n",
      "      %linear_relu_stack.2.bias : Float(512, strides=[1], requires_grad=1, device=mps:0),\n",
      "      %linear_relu_stack.4.weight : Float(10, 512, strides=[512, 1], requires_grad=1, device=mps:0),\n",
      "      %linear_relu_stack.4.bias : Float(10, strides=[1], requires_grad=1, device=mps:0)):\n",
      "  %/flatten/Flatten_output_0 : Float(1, 784, strides=[784, 1], requires_grad=0, device=mps:0) = onnx::Flatten[axis=1, onnx_name=\"/flatten/Flatten\"](%input), scope: __main__.Model::/torch.nn.modules.flatten.Flatten::flatten # /usr/local/lib/python3.9/site-packages/torch/nn/modules/flatten.py:49:0\n",
      "  %/linear_relu_stack/linear_relu_stack.0/Gemm_output_0 : Float(1, 512, strides=[512, 1], requires_grad=1, device=mps:0) = onnx::Gemm[alpha=1., beta=1., transB=1, onnx_name=\"/linear_relu_stack/linear_relu_stack.0/Gemm\"](%/flatten/Flatten_output_0, %linear_relu_stack.0.weight, %linear_relu_stack.0.bias), scope: __main__.Model::/torch.nn.modules.container.Sequential::linear_relu_stack/torch.nn.modules.linear.Linear::linear_relu_stack.0 # /usr/local/lib/python3.9/site-packages/torch/nn/modules/linear.py:116:0\n",
      "  %/linear_relu_stack/linear_relu_stack.1/Relu_output_0 : Float(1, 512, strides=[512, 1], requires_grad=1, device=mps:0) = onnx::Relu[onnx_name=\"/linear_relu_stack/linear_relu_stack.1/Relu\"](%/linear_relu_stack/linear_relu_stack.0/Gemm_output_0), scope: __main__.Model::/torch.nn.modules.container.Sequential::linear_relu_stack/torch.nn.modules.activation.ReLU::linear_relu_stack.1 # /usr/local/lib/python3.9/site-packages/torch/nn/functional.py:1473:0\n",
      "  %/linear_relu_stack/linear_relu_stack.2/Gemm_output_0 : Float(1, 512, strides=[512, 1], requires_grad=1, device=mps:0) = onnx::Gemm[alpha=1., beta=1., transB=1, onnx_name=\"/linear_relu_stack/linear_relu_stack.2/Gemm\"](%/linear_relu_stack/linear_relu_stack.1/Relu_output_0, %linear_relu_stack.2.weight, %linear_relu_stack.2.bias), scope: __main__.Model::/torch.nn.modules.container.Sequential::linear_relu_stack/torch.nn.modules.linear.Linear::linear_relu_stack.2 # /usr/local/lib/python3.9/site-packages/torch/nn/modules/linear.py:116:0\n",
      "  %/linear_relu_stack/linear_relu_stack.3/Relu_output_0 : Float(1, 512, strides=[512, 1], requires_grad=1, device=mps:0) = onnx::Relu[onnx_name=\"/linear_relu_stack/linear_relu_stack.3/Relu\"](%/linear_relu_stack/linear_relu_stack.2/Gemm_output_0), scope: __main__.Model::/torch.nn.modules.container.Sequential::linear_relu_stack/torch.nn.modules.activation.ReLU::linear_relu_stack.3 # /usr/local/lib/python3.9/site-packages/torch/nn/functional.py:1473:0\n",
      "  %output : Float(1, 10, strides=[10, 1], requires_grad=1, device=mps:0) = onnx::Gemm[alpha=1., beta=1., transB=1, onnx_name=\"/linear_relu_stack/linear_relu_stack.4/Gemm\"](%/linear_relu_stack/linear_relu_stack.3/Relu_output_0, %linear_relu_stack.4.weight, %linear_relu_stack.4.bias), scope: __main__.Model::/torch.nn.modules.container.Sequential::linear_relu_stack/torch.nn.modules.linear.Linear::linear_relu_stack.4 # /usr/local/lib/python3.9/site-packages/torch/nn/modules/linear.py:116:0\n",
      "  return (%output)\n",
      "\n",
      "Saved Model to ./model/model.onnx\n"
     ]
    }
   ],
   "source": [
    "sample_input_tensor = torch.randn(1, 1, 28, 28).to(device)\n",
    "torch.onnx.export(model, sample_input_tensor, f\"{MODEL_DIR}/{MODEL_FILE}\", verbose=True, input_names=['input'], output_names=['output'])\n",
    "print(f\"Saved Model to {MODEL_DIR}/{MODEL_FILE}\")"
   ],
   "metadata": {
    "collapsed": false,
    "ExecuteTime": {
     "end_time": "2024-03-13T15:58:47.787469Z",
     "start_time": "2024-03-13T15:58:47.461882Z"
    }
   },
   "id": "d9125b9d84382071"
  }
 ],
 "metadata": {
  "kernelspec": {
   "display_name": "Python 3",
   "language": "python",
   "name": "python3"
  },
  "language_info": {
   "codemirror_mode": {
    "name": "ipython",
    "version": 2
   },
   "file_extension": ".py",
   "mimetype": "text/x-python",
   "name": "python",
   "nbconvert_exporter": "python",
   "pygments_lexer": "ipython2",
   "version": "2.7.6"
  }
 },
 "nbformat": 4,
 "nbformat_minor": 5
}
