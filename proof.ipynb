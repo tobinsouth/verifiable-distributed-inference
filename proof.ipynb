{
 "cells": [
  {
   "cell_type": "markdown",
   "source": [
    "Imports"
   ],
   "metadata": {
    "collapsed": false
   },
   "id": "5b974f4458340a4a"
  },
  {
   "cell_type": "code",
   "execution_count": 61,
   "outputs": [],
   "source": [
    "import json\n",
    "import ezkl\n",
    "import os\n",
    "import onnxruntime as ort\n",
    "import torchvision\n",
    "import numpy as np"
   ],
   "metadata": {
    "collapsed": false,
    "ExecuteTime": {
     "end_time": "2024-03-13T20:37:14.971737Z",
     "start_time": "2024-03-13T20:37:14.966769Z"
    }
   },
   "id": "58eec576bbe4b444"
  },
  {
   "cell_type": "markdown",
   "source": [
    "Constants"
   ],
   "metadata": {
    "collapsed": false
   },
   "id": "12c2137283bce18"
  },
  {
   "cell_type": "code",
   "execution_count": 62,
   "outputs": [],
   "source": [
    "py_run_args = ezkl.PyRunArgs()\n",
    "py_run_args.input_visibility = \"public\"\n",
    "py_run_args.output_visibility = \"public\"\n",
    "py_run_args.param_visibility = \"fixed\"\n",
    "MODEL_DIR = \"./model\"\n",
    "DATA_DIR = \"./data\"\n",
    "PROOF_DIR = \"./proof\"\n",
    "# Either resources or accuracy\n",
    "EZKL_OPTIMIZATION_GOAL = \"resources\"\n",
    "model_id = \"model\""
   ],
   "metadata": {
    "collapsed": false,
    "ExecuteTime": {
     "end_time": "2024-03-13T20:37:18.010139Z",
     "start_time": "2024-03-13T20:37:18.007574Z"
    }
   },
   "id": "1cf342942728f98a"
  },
  {
   "cell_type": "code",
   "execution_count": 63,
   "outputs": [],
   "source": [
    "model_path = f\"{MODEL_DIR}/{model_id}.onnx\"\n",
    "settings_path = f\"{PROOF_DIR}/{model_id}_settings.json\"\n",
    "data_path = f\"{PROOF_DIR}/{model_id}_data.json\"\n",
    "circuit_path = f\"{PROOF_DIR}/{model_id}_circuit.ezkl\"\n",
    "compiled_model_path = f\"{PROOF_DIR}/{model_id}_network.compiled\"\n",
    "srs_path = f\"{PROOF_DIR}/{model_id}_kzg.srs\"\n",
    "vk_path = f\"{PROOF_DIR}/{model_id}_vk.key\"\n",
    "pk_path = f\"{PROOF_DIR}/{model_id}_pk.key\"\n",
    "witness_path = f\"{PROOF_DIR}/{model_id}_witness.json\"\n",
    "proof_path = f\"{PROOF_DIR}/{model_id}_proof.pf\""
   ],
   "metadata": {
    "collapsed": false,
    "ExecuteTime": {
     "end_time": "2024-03-13T20:37:18.728106Z",
     "start_time": "2024-03-13T20:37:18.725301Z"
    }
   },
   "id": "bf8d1aa542061e26"
  },
  {
   "cell_type": "markdown",
   "source": [
    "Setup & Helper Functions"
   ],
   "metadata": {
    "collapsed": false
   },
   "id": "604ffbf7b468cb54"
  },
  {
   "cell_type": "code",
   "execution_count": 64,
   "outputs": [],
   "source": [
    "os.makedirs(PROOF_DIR, exist_ok=True)"
   ],
   "metadata": {
    "collapsed": false,
    "ExecuteTime": {
     "end_time": "2024-03-13T20:37:20.895437Z",
     "start_time": "2024-03-13T20:37:20.889950Z"
    }
   },
   "id": "b0978932e44f3263"
  },
  {
   "cell_type": "code",
   "execution_count": 65,
   "outputs": [],
   "source": [
    "def fetch_test_data():\n",
    "    test_data = torchvision.datasets.MNIST(root=DATA_DIR, train=False, download=False, transform=torchvision.transforms.ToTensor())\n",
    "    return fetch_first_image(test_data)\n",
    "\n",
    "def fetch_first_image(data):\n",
    "    image, _ = data[0]\n",
    "    np_image = image.numpy()[np.newaxis, :]\n",
    "    return np_image\n",
    "    \n",
    "    \n",
    "def generate_example_model_output(model_path, data_path):\n",
    "    ort_session = ort.InferenceSession(model_path)\n",
    "    input_data = fetch_test_data()\n",
    "    output_data = ort_session.run(None, {'input': input_data})\n",
    "    witness_data = dict(input_shapes=[input_data.shape],\n",
    "                        input_data=[input_data.reshape([-1]).tolist()],\n",
    "                        output_data=[o.reshape([-1]).tolist() for o in output_data])\n",
    "    with open(data_path, 'w') as f:\n",
    "        json.dump(witness_data, f)\n",
    "    return data_path"
   ],
   "metadata": {
    "collapsed": false,
    "ExecuteTime": {
     "end_time": "2024-03-13T20:37:21.594720Z",
     "start_time": "2024-03-13T20:37:21.590659Z"
    }
   },
   "id": "c219c52f28fb699c"
  },
  {
   "cell_type": "markdown",
   "source": [
    "Generate Proof"
   ],
   "metadata": {
    "collapsed": false
   },
   "id": "d0ada3e9f3230dd4"
  },
  {
   "cell_type": "code",
   "execution_count": 66,
   "outputs": [],
   "source": [
    "# Generate Settings File\n",
    "res = ezkl.gen_settings(model_path, settings_path, py_run_args = py_run_args)\n",
    "assert res == True"
   ],
   "metadata": {
    "collapsed": false,
    "ExecuteTime": {
     "end_time": "2024-03-13T20:37:24.476975Z",
     "start_time": "2024-03-13T20:37:24.472965Z"
    }
   },
   "id": "c7ede20dda30c32a"
  },
  {
   "cell_type": "code",
   "execution_count": 67,
   "outputs": [
    {
     "name": "stderr",
     "output_type": "stream",
     "text": [
      "Using 4 columns for non-linearity table.\n",
      "Using 4 columns for non-linearity table.\n",
      "Using 4 columns for non-linearity table.\n",
      "Using 7 columns for non-linearity table.\n",
      "Using 7 columns for non-linearity table.\n",
      "Using 7 columns for non-linearity table.\n",
      "Using 2 columns for non-linearity table.\n",
      "Using 4 columns for non-linearity table.\n",
      "Using 4 columns for non-linearity table.\n",
      "Using 4 columns for non-linearity table.\n",
      "Using 4 columns for non-linearity table.\n",
      "Using 4 columns for non-linearity table.\n",
      "Using 7 columns for non-linearity table.\n",
      "Using 7 columns for non-linearity table.\n",
      "Using 7 columns for non-linearity table.\n",
      "Using 2 columns for non-linearity table.\n",
      "Using 4 columns for non-linearity table.\n",
      "Using 4 columns for non-linearity table.\n",
      "Using 4 columns for non-linearity table.\n",
      "Using 4 columns for non-linearity table.\n",
      "Using 7 columns for non-linearity table.\n",
      "Using 7 columns for non-linearity table.\n",
      "Using 3 columns for non-linearity table.\n",
      "Using 6 columns for non-linearity table.\n",
      "Using 11 columns for non-linearity table.\n",
      "Using 11 columns for non-linearity table.\n",
      "\n",
      "\n",
      " <------------- Numerical Fidelity Report (input_scale: 13, param_scale: 13, scale_input_multiplier: 1) ------------->\n",
      "\n",
      "+----------------+----------------+---------------+---------------+----------------+------------------+---------------+----------------+--------------------+--------------------+------------------------+\n",
      "| mean_error     | median_error   | max_error     | min_error     | mean_abs_error | median_abs_error | max_abs_error | min_abs_error  | mean_squared_error | mean_percent_error | mean_abs_percent_error |\n",
      "+----------------+----------------+---------------+---------------+----------------+------------------+---------------+----------------+--------------------+--------------------+------------------------+\n",
      "| 0.000032612494 | 0.000015109777 | 0.00037014484 | -0.0002721399 | 0.00015680771  | 0.000015109777   | 0.00037014484 | 0.000012261793 | 0.000000040544723  | -0.00061619317     | 0.0011249913           |\n",
      "+----------------+----------------+---------------+---------------+----------------+------------------+---------------+----------------+--------------------+--------------------+------------------------+\n",
      "\n",
      "\n"
     ]
    }
   ],
   "source": [
    "# Calibrate Settings\n",
    "data_path = generate_example_model_output(model_path, data_path)\n",
    "res = ezkl.calibrate_settings(data_path, model_path, settings_path, EZKL_OPTIMIZATION_GOAL)\n",
    "assert res == True"
   ],
   "metadata": {
    "collapsed": false,
    "ExecuteTime": {
     "end_time": "2024-03-13T20:37:46.732253Z",
     "start_time": "2024-03-13T20:37:25.273480Z"
    }
   },
   "id": "41b0067ded1ba451"
  },
  {
   "cell_type": "code",
   "execution_count": 68,
   "outputs": [],
   "source": [
    "res = ezkl.compile_circuit(model_path, compiled_model_path, settings_path)\n",
    "assert res == True"
   ],
   "metadata": {
    "collapsed": false,
    "ExecuteTime": {
     "end_time": "2024-03-13T20:37:49.814767Z",
     "start_time": "2024-03-13T20:37:49.811087Z"
    }
   },
   "id": "9e75dc67100c2025"
  },
  {
   "cell_type": "code",
   "execution_count": 70,
   "outputs": [
    {
     "name": "stdout",
     "output_type": "stream",
     "text": [
      "\u001B[1;34m[\u001B[0m\u001B[1;34m*\u001B[0m\u001B[1;34m]\u001B[0m [\u001B[95m2024-03-13 20:41:44\u001B[0m, ezkl] - \u001B[1;37m\n",
      "\u001B[1;37m | \u001B[0m \n",
      "\u001B[1;37m | \u001B[0m         ███████╗███████╗██╗  ██╗██╗\n",
      "\u001B[1;37m | \u001B[0m         ██╔════╝╚══███╔╝██║ ██╔╝██║\n",
      "\u001B[1;37m | \u001B[0m         █████╗    ███╔╝ █████╔╝ ██║\n",
      "\u001B[1;37m | \u001B[0m         ██╔══╝   ███╔╝  ██╔═██╗ ██║\n",
      "\u001B[1;37m | \u001B[0m         ███████╗███████╗██║  ██╗███████╗\n",
      "\u001B[1;37m | \u001B[0m         ╚══════╝╚══════╝╚═╝  ╚═╝╚══════╝\n",
      "\u001B[1;37m | \u001B[0m \n",
      "\u001B[1;37m | \u001B[0m         -----------------------------------------------------------\n",
      "\u001B[1;37m | \u001B[0m         Easy Zero Knowledge for the Laconic.\n",
      "\u001B[1;37m | \u001B[0m         -----------------------------------------------------------\n",
      "\u001B[1;37m | \u001B[0m \n",
      "\u001B[1;37m | \u001B[0m         \u001B[0m\n",
      "\u001B[1;34m[\u001B[0m\u001B[1;34m*\u001B[0m\u001B[1;34m]\u001B[0m [\u001B[95m2024-03-13 20:41:44\u001B[0m, ezkl::execute] - \u001B[1;37mSRS already exists at that path\u001B[0m\n",
      "\u001B[1;34m[\u001B[0m\u001B[1;34m*\u001B[0m\u001B[1;34m]\u001B[0m [\u001B[95m2024-03-13 20:41:44\u001B[0m, ezkl::execute] - \u001B[1;37mread 134217988 bytes from SRS file (vector of len = 134217988)\u001B[0m\n",
      "\u001B[1;34m[\u001B[0m\u001B[1;34m*\u001B[0m\u001B[1;34m]\u001B[0m [\u001B[95m2024-03-13 20:41:44\u001B[0m, ezkl::execute] - \u001B[1;37mSRS hash: 54ef75911da76d7a6b7ea341998aaf66cb06c679c53e0a88a4fe070dd3add963\u001B[0m\n",
      "\u001B[1;34m[\u001B[0m\u001B[1;34m*\u001B[0m\u001B[1;34m]\u001B[0m [\u001B[95m2024-03-13 20:41:44\u001B[0m, ezkl] - \u001B[1;37msucceeded\u001B[0m\n"
     ]
    }
   ],
   "source": [
    "# This does not work\n",
    "# res = ezkl.get_srs(srs_path, settings_path)\n",
    "# assert res == True\n",
    "os.system(f\"ezkl get-srs --srs-path {srs_path} -S {settings_path}\")\n",
    "assert os.path.isfile(srs_path)"
   ],
   "metadata": {
    "collapsed": false,
    "ExecuteTime": {
     "end_time": "2024-03-13T20:41:44.776048Z",
     "start_time": "2024-03-13T20:41:43.992885Z"
    }
   },
   "id": "aab0d6415f4bc442"
  },
  {
   "cell_type": "code",
   "execution_count": 71,
   "outputs": [],
   "source": [
    "res = ezkl.setup(compiled_model_path, vk_path, pk_path, srs_path)\n",
    "assert res == True\n",
    "assert os.path.isfile(vk_path)\n",
    "assert os.path.isfile(pk_path)"
   ],
   "metadata": {
    "collapsed": false,
    "ExecuteTime": {
     "end_time": "2024-03-13T20:42:50.485152Z",
     "start_time": "2024-03-13T20:42:50.481770Z"
    }
   },
   "id": "ad9a255d9aa5f66e"
  },
  {
   "cell_type": "code",
   "execution_count": 57,
   "outputs": [],
   "source": [
    "res = ezkl.gen_witness(data_path, compiled_model_path, witness_path)\n",
    "assert os.path.isfile(witness_path)"
   ],
   "metadata": {
    "collapsed": false,
    "ExecuteTime": {
     "end_time": "2024-03-13T20:10:55.816116Z",
     "start_time": "2024-03-13T20:10:55.811932Z"
    }
   },
   "id": "26b4c1fa2788da84"
  },
  {
   "cell_type": "code",
   "execution_count": 59,
   "outputs": [
    {
     "name": "stdout",
     "output_type": "stream",
     "text": [
      "\u001B[1;34m[\u001B[0m\u001B[1;34m*\u001B[0m\u001B[1;34m]\u001B[0m [\u001B[95m2024-03-13 20:14:21\u001B[0m, ezkl] - \u001B[1;37m\n",
      "\u001B[1;37m | \u001B[0m \n",
      "\u001B[1;37m | \u001B[0m         ███████╗███████╗██╗  ██╗██╗\n",
      "\u001B[1;37m | \u001B[0m         ██╔════╝╚══███╔╝██║ ██╔╝██║\n",
      "\u001B[1;37m | \u001B[0m         █████╗    ███╔╝ █████╔╝ ██║\n",
      "\u001B[1;37m | \u001B[0m         ██╔══╝   ███╔╝  ██╔═██╗ ██║\n",
      "\u001B[1;37m | \u001B[0m         ███████╗███████╗██║  ██╗███████╗\n",
      "\u001B[1;37m | \u001B[0m         ╚══════╝╚══════╝╚═╝  ╚═╝╚══════╝\n",
      "\u001B[1;37m | \u001B[0m \n",
      "\u001B[1;37m | \u001B[0m         -----------------------------------------------------------\n",
      "\u001B[1;37m | \u001B[0m         Easy Zero Knowledge for the Lyrical.\n",
      "\u001B[1;37m | \u001B[0m         -----------------------------------------------------------\n",
      "\u001B[1;37m | \u001B[0m \n",
      "\u001B[1;37m | \u001B[0m         \u001B[0m\n",
      "\u001B[1;34m[\u001B[0m\u001B[1;34m*\u001B[0m\u001B[1;34m]\u001B[0m [\u001B[95m2024-03-13 20:14:21\u001B[0m, ezkl::pfsys::srs] - \u001B[1;37mloading srs from \"./proof/model_kzg.srs\"\u001B[0m\n",
      "\u001B[1;34m[\u001B[0m\u001B[1;34m*\u001B[0m\u001B[1;34m]\u001B[0m [\u001B[95m2024-03-13 20:14:21\u001B[0m, ezkl::execute] - \u001B[1;37mdownsizing params to 20 logrows\u001B[0m\n",
      "\u001B[1;34m[\u001B[0m\u001B[1;34m*\u001B[0m\u001B[1;34m]\u001B[0m [\u001B[95m2024-03-13 20:14:21\u001B[0m, ezkl::pfsys] - \u001B[1;37mloading proving key from \"./proof/model_pk.key\"\u001B[0m\n",
      "\u001B[1;34m[\u001B[0m\u001B[1;34m*\u001B[0m\u001B[1;34m]\u001B[0m [\u001B[95m2024-03-13 20:14:26\u001B[0m, ezkl::pfsys] - \u001B[1;37mdone loading proving key ✅\u001B[0m\n",
      "\u001B[1;34m[\u001B[0m\u001B[1;34m*\u001B[0m\u001B[1;34m]\u001B[0m [\u001B[95m2024-03-13 20:14:26\u001B[0m, ezkl::pfsys] - \u001B[1;37mproof started...\u001B[0m\n",
      "\u001B[1;34m[\u001B[0m\u001B[1;34m*\u001B[0m\u001B[1;34m]\u001B[0m [\u001B[95m2024-03-13 20:14:26\u001B[0m, ezkl::graph::model] - \u001B[1;37mmodel layout...\u001B[0m\n",
      "\u001B[1;34m[\u001B[0m\u001B[1;34m*\u001B[0m\u001B[1;34m]\u001B[0m [\u001B[95m2024-03-13 20:15:09\u001B[0m, ezkl::pfsys] - \u001B[1;37mproof took 43.42\u001B[0m\n",
      "\u001B[1;34m[\u001B[0m\u001B[1;34m*\u001B[0m\u001B[1;34m]\u001B[0m [\u001B[95m2024-03-13 20:15:09\u001B[0m, ezkl] - \u001B[1;37msucceeded\u001B[0m\n"
     ]
    }
   ],
   "source": [
    "# res = ezkl.prove(witness_path, compiled_model_path, pk_path, proof_path, srs_path, \"single\")\n",
    "os.system(f\"ezkl prove -M {compiled_model_path} --witness {witness_path} --pk-path={pk_path} --proof-path={proof_path} --srs-path={srs_path}\")\n",
    "assert os.path.isfile(proof_path)"
   ],
   "metadata": {
    "collapsed": false,
    "ExecuteTime": {
     "end_time": "2024-03-13T20:15:09.885706Z",
     "start_time": "2024-03-13T20:14:21.252786Z"
    }
   },
   "id": "23723dd6a5ec3c6b"
  },
  {
   "cell_type": "markdown",
   "source": [
    "Verification"
   ],
   "metadata": {
    "collapsed": false
   },
   "id": "b965b0545b2b0e2c"
  },
  {
   "cell_type": "code",
   "execution_count": 60,
   "outputs": [],
   "source": [
    "res = ezkl.verify(proof_path, settings_path, vk_path, srs_path)\n",
    "assert res == True"
   ],
   "metadata": {
    "collapsed": false,
    "ExecuteTime": {
     "end_time": "2024-03-13T20:15:21.026595Z",
     "start_time": "2024-03-13T20:15:21.025928Z"
    }
   },
   "id": "294515e4a6b27742"
  }
 ],
 "metadata": {
  "kernelspec": {
   "display_name": "Python 3",
   "language": "python",
   "name": "python3"
  },
  "language_info": {
   "codemirror_mode": {
    "name": "ipython",
    "version": 2
   },
   "file_extension": ".py",
   "mimetype": "text/x-python",
   "name": "python",
   "nbconvert_exporter": "python",
   "pygments_lexer": "ipython2",
   "version": "2.7.6"
  }
 },
 "nbformat": 4,
 "nbformat_minor": 5
}
