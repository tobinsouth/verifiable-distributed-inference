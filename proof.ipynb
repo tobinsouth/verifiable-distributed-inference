{
 "cells": [
  {
   "cell_type": "markdown",
   "source": [
    "Imports"
   ],
   "metadata": {
    "collapsed": false
   },
   "id": "5b974f4458340a4a"
  },
  {
   "cell_type": "code",
   "execution_count": 1,
   "outputs": [],
   "source": [
    "import json\n",
    "import ezkl\n",
    "import os\n",
    "import onnxruntime as ort\n",
    "import torchvision\n",
    "import numpy as np"
   ],
   "metadata": {
    "collapsed": false,
    "ExecuteTime": {
     "end_time": "2024-03-14T00:24:03.678822Z",
     "start_time": "2024-03-14T00:24:01.489185Z"
    }
   },
   "id": "58eec576bbe4b444"
  },
  {
   "cell_type": "markdown",
   "source": [
    "Constants"
   ],
   "metadata": {
    "collapsed": false
   },
   "id": "12c2137283bce18"
  },
  {
   "cell_type": "code",
   "execution_count": 2,
   "outputs": [],
   "source": [
    "PY_RUN_ARGS = ezkl.PyRunArgs()\n",
    "PY_RUN_ARGS.input_visibility = \"public\"\n",
    "PY_RUN_ARGS.output_visibility = \"public\"\n",
    "PY_RUN_ARGS.param_visibility = \"fixed\"\n",
    "MODEL_DIR = \"./model\"\n",
    "DATA_DIR = \"./data\"\n",
    "PROOF_DIR = \"./proof\"\n",
    "# Either resources or accuracy\n",
    "EZKL_OPTIMIZATION_GOAL = \"resources\"\n",
    "MODEL_ID = \"model\""
   ],
   "metadata": {
    "collapsed": false,
    "ExecuteTime": {
     "end_time": "2024-03-14T00:24:05.118032Z",
     "start_time": "2024-03-14T00:24:05.112026Z"
    }
   },
   "id": "1cf342942728f98a"
  },
  {
   "cell_type": "code",
   "execution_count": 3,
   "outputs": [],
   "source": [
    "MODEL_PATH = f\"{MODEL_DIR}/{MODEL_ID}.onnx\"\n",
    "SETTINGS_PATH = f\"{PROOF_DIR}/{MODEL_ID}_settings.json\"\n",
    "DATA_PATH = f\"{PROOF_DIR}/{MODEL_ID}_data.json\"\n",
    "COMPILED_MODEL_PATH = f\"{PROOF_DIR}/{MODEL_ID}_network.compiled\"\n",
    "SRS_PATH = f\"{PROOF_DIR}/{MODEL_ID}_kzg.srs\"\n",
    "VK_PATH = f\"{PROOF_DIR}/{MODEL_ID}_vk.key\"\n",
    "PK_PATH = f\"{PROOF_DIR}/{MODEL_ID}_pk.key\"\n",
    "WITNESS_PATH = f\"{PROOF_DIR}/{MODEL_ID}_witness.json\"\n",
    "PROOF_PATH = f\"{PROOF_DIR}/{MODEL_ID}_proof.pf\""
   ],
   "metadata": {
    "collapsed": false,
    "ExecuteTime": {
     "end_time": "2024-03-14T00:24:06.842672Z",
     "start_time": "2024-03-14T00:24:06.835588Z"
    }
   },
   "id": "bf8d1aa542061e26"
  },
  {
   "cell_type": "markdown",
   "source": [
    "Setup & Helper Functions"
   ],
   "metadata": {
    "collapsed": false
   },
   "id": "604ffbf7b468cb54"
  },
  {
   "cell_type": "code",
   "execution_count": 4,
   "outputs": [],
   "source": [
    "os.makedirs(PROOF_DIR, exist_ok=True)\n",
    "\n",
    "def fetch_test_data():\n",
    "    test_data = torchvision.datasets.MNIST(root=DATA_DIR, train=False, download=False, transform=torchvision.transforms.ToTensor())\n",
    "    return fetch_first_image(test_data)\n",
    "\n",
    "def fetch_first_image(data):\n",
    "    image, _ = data[0]\n",
    "    np_image = image.numpy()[np.newaxis, :]\n",
    "    return np_image\n",
    "    \n",
    "    \n",
    "def generate_example_model_output(model_path, data_path):\n",
    "    ort_session = ort.InferenceSession(model_path)\n",
    "    input_data = fetch_test_data()\n",
    "    output_data = ort_session.run(None, {'input': input_data})\n",
    "    witness_data = dict(input_shapes=[input_data.shape],\n",
    "                        input_data=[input_data.reshape([-1]).tolist()],\n",
    "                        output_data=[o.reshape([-1]).tolist() for o in output_data])\n",
    "    with open(data_path, 'w') as f:\n",
    "        json.dump(witness_data, f)\n",
    "    return data_path"
   ],
   "metadata": {
    "collapsed": false,
    "ExecuteTime": {
     "end_time": "2024-03-14T00:24:15.634807Z",
     "start_time": "2024-03-14T00:24:15.627741Z"
    }
   },
   "id": "c219c52f28fb699c"
  },
  {
   "cell_type": "markdown",
   "source": [
    "Generate Proof"
   ],
   "metadata": {
    "collapsed": false
   },
   "id": "d0ada3e9f3230dd4"
  },
  {
   "cell_type": "code",
   "execution_count": 5,
   "outputs": [],
   "source": [
    "# Generate Settings File\n",
    "res = ezkl.gen_settings(\n",
    "    model=MODEL_PATH,\n",
    "    output=SETTINGS_PATH,\n",
    "    py_run_args=PY_RUN_ARGS\n",
    ")\n",
    "assert res == True"
   ],
   "metadata": {
    "collapsed": false,
    "ExecuteTime": {
     "end_time": "2024-03-14T00:24:21.613665Z",
     "start_time": "2024-03-14T00:24:21.203802Z"
    }
   },
   "id": "c7ede20dda30c32a"
  },
  {
   "cell_type": "code",
   "execution_count": 6,
   "outputs": [
    {
     "name": "stderr",
     "output_type": "stream",
     "text": [
      "Using 4 columns for non-linearity table.\n",
      "Using 4 columns for non-linearity table.\n",
      "Using 4 columns for non-linearity table.\n",
      "Using 7 columns for non-linearity table.\n",
      "Using 7 columns for non-linearity table.\n",
      "Using 7 columns for non-linearity table.\n",
      "Using 2 columns for non-linearity table.\n",
      "Using 4 columns for non-linearity table.\n",
      "Using 4 columns for non-linearity table.\n",
      "Using 4 columns for non-linearity table.\n",
      "Using 4 columns for non-linearity table.\n",
      "Using 4 columns for non-linearity table.\n",
      "Using 7 columns for non-linearity table.\n",
      "Using 7 columns for non-linearity table.\n",
      "Using 7 columns for non-linearity table.\n",
      "Using 2 columns for non-linearity table.\n",
      "Using 4 columns for non-linearity table.\n",
      "Using 4 columns for non-linearity table.\n",
      "Using 4 columns for non-linearity table.\n",
      "Using 4 columns for non-linearity table.\n",
      "Using 7 columns for non-linearity table.\n",
      "Using 7 columns for non-linearity table.\n",
      "Using 3 columns for non-linearity table.\n",
      "Using 6 columns for non-linearity table.\n",
      "Using 11 columns for non-linearity table.\n",
      "Using 11 columns for non-linearity table.\n",
      "\n",
      "\n",
      " <------------- Numerical Fidelity Report (input_scale: 13, param_scale: 13, scale_input_multiplier: 1) ------------->\n",
      "\n",
      "+----------------+----------------+---------------+---------------+----------------+------------------+---------------+----------------+--------------------+--------------------+------------------------+\n",
      "| mean_error     | median_error   | max_error     | min_error     | mean_abs_error | median_abs_error | max_abs_error | min_abs_error  | mean_squared_error | mean_percent_error | mean_abs_percent_error |\n",
      "+----------------+----------------+---------------+---------------+----------------+------------------+---------------+----------------+--------------------+--------------------+------------------------+\n",
      "| 0.000032612494 | 0.000015109777 | 0.00037014484 | -0.0002721399 | 0.00015680771  | 0.000015109777   | 0.00037014484 | 0.000012261793 | 0.000000040544723  | -0.00061619317     | 0.0011249913           |\n",
      "+----------------+----------------+---------------+---------------+----------------+------------------+---------------+----------------+--------------------+--------------------+------------------------+\n",
      "\n",
      "\n"
     ]
    }
   ],
   "source": [
    "# Calibrate Settings\n",
    "DATA_PATH = generate_example_model_output(MODEL_PATH, DATA_PATH)\n",
    "res = ezkl.calibrate_settings(\n",
    "    data=DATA_PATH,\n",
    "    model=MODEL_PATH,\n",
    "    settings=SETTINGS_PATH,\n",
    "    target=EZKL_OPTIMIZATION_GOAL\n",
    ")\n",
    "assert res == True"
   ],
   "metadata": {
    "collapsed": false,
    "ExecuteTime": {
     "end_time": "2024-03-14T00:24:46.802267Z",
     "start_time": "2024-03-14T00:24:24.850732Z"
    }
   },
   "id": "41b0067ded1ba451"
  },
  {
   "cell_type": "code",
   "execution_count": 7,
   "outputs": [],
   "source": [
    "# Compile model to a circuit\n",
    "res = ezkl.compile_circuit(\n",
    "    model=MODEL_PATH,\n",
    "    compiled_circuit=COMPILED_MODEL_PATH,\n",
    "    settings_path=SETTINGS_PATH\n",
    ")\n",
    "assert res == True"
   ],
   "metadata": {
    "collapsed": false,
    "ExecuteTime": {
     "end_time": "2024-03-14T00:24:54.822973Z",
     "start_time": "2024-03-14T00:24:54.810700Z"
    }
   },
   "id": "9e75dc67100c2025"
  },
  {
   "cell_type": "code",
   "execution_count": 8,
   "outputs": [],
   "source": [
    "# (Down)load an SRS String\n",
    "res = ezkl.get_srs(\n",
    "    settings_path=SETTINGS_PATH,\n",
    "    logrows=None,\n",
    "    srs_path=SRS_PATH\n",
    ")\n",
    "assert res == True\n",
    "assert os.path.isfile(SRS_PATH)"
   ],
   "metadata": {
    "collapsed": false,
    "ExecuteTime": {
     "end_time": "2024-03-14T00:26:38.165074Z",
     "start_time": "2024-03-14T00:26:38.160667Z"
    }
   },
   "id": "aab0d6415f4bc442"
  },
  {
   "cell_type": "code",
   "execution_count": 9,
   "outputs": [],
   "source": [
    "# Setup Proof\n",
    "res = ezkl.setup(\n",
    "    model=COMPILED_MODEL_PATH,\n",
    "    vk_path=VK_PATH,\n",
    "    pk_path=PK_PATH,\n",
    "    srs_path=SRS_PATH\n",
    ")\n",
    "assert res == True\n",
    "assert os.path.isfile(VK_PATH)\n",
    "assert os.path.isfile(PK_PATH)"
   ],
   "metadata": {
    "collapsed": false,
    "ExecuteTime": {
     "end_time": "2024-03-14T00:28:04.094982Z",
     "start_time": "2024-03-14T00:27:12.304920Z"
    }
   },
   "id": "ad9a255d9aa5f66e"
  },
  {
   "cell_type": "code",
   "execution_count": 10,
   "outputs": [],
   "source": [
    "# Generate witness file\n",
    "res = ezkl.gen_witness(\n",
    "    data=DATA_PATH,\n",
    "    model=COMPILED_MODEL_PATH,\n",
    "    output=WITNESS_PATH\n",
    ")\n",
    "assert os.path.isfile(WITNESS_PATH)"
   ],
   "metadata": {
    "collapsed": false,
    "ExecuteTime": {
     "end_time": "2024-03-14T00:28:23.429792Z",
     "start_time": "2024-03-14T00:28:23.425668Z"
    }
   },
   "id": "26b4c1fa2788da84"
  },
  {
   "cell_type": "code",
   "execution_count": 11,
   "outputs": [],
   "source": [
    "# Create ZK-SNARK for the execution of the model\n",
    "res = ezkl.prove(\n",
    "    witness=WITNESS_PATH,\n",
    "    model=COMPILED_MODEL_PATH,\n",
    "    pk_path=PK_PATH,\n",
    "    proof_path=PROOF_PATH,\n",
    "    srs_path=SRS_PATH\n",
    ")\n",
    "assert os.path.isfile(PROOF_PATH)"
   ],
   "metadata": {
    "collapsed": false,
    "ExecuteTime": {
     "end_time": "2024-03-14T00:29:40.307044Z",
     "start_time": "2024-03-14T00:29:40.273885Z"
    }
   },
   "id": "23723dd6a5ec3c6b"
  },
  {
   "cell_type": "markdown",
   "source": [
    "Verification"
   ],
   "metadata": {
    "collapsed": false
   },
   "id": "b965b0545b2b0e2c"
  },
  {
   "cell_type": "code",
   "execution_count": 12,
   "outputs": [],
   "source": [
    "#Verify proof\n",
    "res = ezkl.verify(\n",
    "    proof_path=PROOF_PATH,\n",
    "    settings_path=SETTINGS_PATH,\n",
    "    vk_path=VK_PATH,\n",
    "    srs_path=SRS_PATH\n",
    ")\n",
    "assert res == True"
   ],
   "metadata": {
    "collapsed": false,
    "ExecuteTime": {
     "end_time": "2024-03-14T00:29:43.732529Z",
     "start_time": "2024-03-14T00:29:43.720305Z"
    }
   },
   "id": "294515e4a6b27742"
  }
 ],
 "metadata": {
  "kernelspec": {
   "display_name": "Python 3",
   "language": "python",
   "name": "python3"
  },
  "language_info": {
   "codemirror_mode": {
    "name": "ipython",
    "version": 2
   },
   "file_extension": ".py",
   "mimetype": "text/x-python",
   "name": "python",
   "nbconvert_exporter": "python",
   "pygments_lexer": "ipython2",
   "version": "2.7.6"
  }
 },
 "nbformat": 4,
 "nbformat_minor": 5
}
