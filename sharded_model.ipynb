{
 "cells": [
  {
   "cell_type": "markdown",
   "source": [
    "Imports"
   ],
   "metadata": {
    "collapsed": false
   },
   "id": "fdc8cc965a7d7810"
  },
  {
   "cell_type": "code",
   "execution_count": 42,
   "id": "initial_id",
   "metadata": {
    "collapsed": true,
    "ExecuteTime": {
     "end_time": "2024-03-19T18:49:41.943843Z",
     "start_time": "2024-03-19T18:49:41.940589Z"
    }
   },
   "outputs": [],
   "source": [
    "import os.path\n",
    "import torch\n",
    "from torch import nn\n",
    "from torch.utils.data import DataLoader\n",
    "from torchvision import datasets\n",
    "from torchvision.transforms import ToTensor"
   ]
  },
  {
   "cell_type": "markdown",
   "source": [
    "Constants"
   ],
   "metadata": {
    "collapsed": false
   },
   "id": "403a65b1aeb9a61c"
  },
  {
   "cell_type": "code",
   "execution_count": 43,
   "outputs": [],
   "source": [
    "# Define constants\n",
    "device = (\n",
    "    \"cuda\"\n",
    "    if torch.cuda.is_available()\n",
    "    else \"mps\"\n",
    "    if torch.backends.mps.is_available()\n",
    "    else \"cpu\"\n",
    ")\n",
    "epochs = 5\n",
    "batch_size = 64\n",
    "MODEL_DIR = \"./model\"\n",
    "DATA_DIR = \"./data\"\n",
    "MODEL_SPLIT_PREFIX = \"model_2\""
   ],
   "metadata": {
    "collapsed": false,
    "ExecuteTime": {
     "end_time": "2024-03-19T18:49:43.093472Z",
     "start_time": "2024-03-19T18:49:43.090655Z"
    }
   },
   "id": "a9c01871c77c26a4"
  },
  {
   "cell_type": "code",
   "execution_count": null,
   "outputs": [],
   "source": [],
   "metadata": {
    "collapsed": false
   },
   "id": "246d0e12b409e060"
  },
  {
   "cell_type": "markdown",
   "source": [
    "Define Model, Train, Test, Shard functions"
   ],
   "metadata": {
    "collapsed": false
   },
   "id": "37e61938a06f0167"
  },
  {
   "cell_type": "code",
   "execution_count": 46,
   "outputs": [],
   "source": [
    "# Define Model\n",
    "class Model(nn.Module):\n",
    "    def __init__(self):\n",
    "        super().__init__()\n",
    "        self.flatten = nn.Flatten()\n",
    "        self.stack_1 = nn.Sequential(\n",
    "            nn.Linear(28 * 28, 512),\n",
    "            nn.ReLU()\n",
    "        )\n",
    "        self.stack_2 = nn.Sequential(\n",
    "            nn.Linear(512, 512),\n",
    "            nn.ReLU(),\n",
    "            nn.Linear(512, 10)\n",
    "        )\n",
    "\n",
    "    def forward(self, x):\n",
    "        x = self.flatten(x)\n",
    "        x = self.stack_1(x)\n",
    "        return self.stack_2(x)\n",
    "\n",
    "\n",
    "def train(dataloader, model, loss_fn, optimizer):\n",
    "    size = len(dataloader.dataset)\n",
    "    model.train()\n",
    "    for batch, (X, y) in enumerate(dataloader):\n",
    "        X, y = X.to(device), y.to(device)\n",
    "\n",
    "        pred = model(X)\n",
    "        loss = loss_fn(pred, y)\n",
    "        loss.backward()\n",
    "        optimizer.step()\n",
    "        optimizer.zero_grad()\n",
    "\n",
    "        if batch % 100 == 0:\n",
    "            loss, current = loss.item(), (batch + 1) * len(X)\n",
    "            print(f\"loss: {loss:>7f}  [{current:>5d}/{size:>5d}]\")\n",
    "\n",
    "\n",
    "def test(dataloader, model, loss_fn):\n",
    "    size = len(dataloader.dataset)\n",
    "    num_batches = len(dataloader)\n",
    "    model.eval()\n",
    "    test_loss, correct = 0, 0\n",
    "    with torch.no_grad():\n",
    "        for X, y in dataloader:\n",
    "            X, y = X.to(device), y.to(device)\n",
    "            pred = model(X)\n",
    "            test_loss += loss_fn(pred, y).item()\n",
    "            correct += (pred.argmax(1) == y).type(torch.float).sum().item()\n",
    "    test_loss /= num_batches\n",
    "    correct /= size\n",
    "    print(f\"Test Error: \\n Accuracy: {(100 * correct):>0.1f}%, Avg loss: {test_loss:>8f} \\n\")\n",
    "\n",
    "\n",
    "def shard(model):\n",
    "    num_splits = len(list(model.children()))\n",
    "    splits = []\n",
    "    for i in range(num_splits):\n",
    "        splits.append(nn.Sequential(list(model.children())[i]))\n",
    "    return splits\n",
    "    \n",
    "    "
   ],
   "metadata": {
    "collapsed": false,
    "ExecuteTime": {
     "end_time": "2024-03-19T18:52:48.374900Z",
     "start_time": "2024-03-19T18:52:48.371757Z"
    }
   },
   "id": "8958d47ebd1f322e"
  },
  {
   "cell_type": "markdown",
   "source": [
    "Setup Data"
   ],
   "metadata": {
    "collapsed": false
   },
   "id": "755a9237fe0f32f2"
  },
  {
   "cell_type": "code",
   "execution_count": 4,
   "outputs": [
    {
     "name": "stdout",
     "output_type": "stream",
     "text": [
      "(Down)loaded MNIST dataset\n"
     ]
    }
   ],
   "source": [
    "os.makedirs(MODEL_DIR, exist_ok=True)\n",
    "os.makedirs(DATA_DIR, exist_ok=True)\n",
    "\n",
    "# (Down)load training data\n",
    "MNIST_folder_exists = os.path.exists(f\"{DATA_DIR}/MNIST\")\n",
    "train_data = datasets.MNIST(\n",
    "    root=DATA_DIR,\n",
    "    train=True,\n",
    "    download=(not MNIST_folder_exists),\n",
    "    transform=ToTensor()\n",
    ")\n",
    "train_dataloader = DataLoader(train_data, batch_size=batch_size)\n",
    "test_data = datasets.MNIST(\n",
    "    root=DATA_DIR,\n",
    "    train=False,\n",
    "    download=(not MNIST_folder_exists),\n",
    "    transform=ToTensor()\n",
    ")\n",
    "test_dataloader = DataLoader(test_data, batch_size=batch_size)\n",
    "print(\"(Down)loaded MNIST dataset\")"
   ],
   "metadata": {
    "collapsed": false,
    "ExecuteTime": {
     "end_time": "2024-03-19T15:42:32.276074Z",
     "start_time": "2024-03-19T15:42:32.215327Z"
    }
   },
   "id": "3cf8a964b2686b0e"
  },
  {
   "cell_type": "markdown",
   "source": [
    "Run & Train Model (We need to do this, as an ONNX file can't easily be loaded into PyTorch)"
   ],
   "metadata": {
    "collapsed": false
   },
   "id": "ab8ee0635301811e"
  },
  {
   "cell_type": "code",
   "execution_count": 5,
   "outputs": [
    {
     "name": "stdout",
     "output_type": "stream",
     "text": [
      "Starting Training\n",
      "Epoch 1\n",
      "-------------------------------\n",
      "loss: 2.295470  [   64/60000]\n",
      "loss: 2.295720  [ 6464/60000]\n",
      "loss: 2.306595  [12864/60000]\n",
      "loss: 2.272050  [19264/60000]\n",
      "loss: 2.287586  [25664/60000]\n",
      "loss: 2.285815  [32064/60000]\n",
      "loss: 2.272544  [38464/60000]\n",
      "loss: 2.271732  [44864/60000]\n",
      "loss: 2.250515  [51264/60000]\n",
      "loss: 2.256143  [57664/60000]\n",
      "Test Error: \n",
      " Accuracy: 40.0%, Avg loss: 2.252269 \n",
      "\n",
      "Epoch 2\n",
      "-------------------------------\n",
      "loss: 2.245810  [   64/60000]\n",
      "loss: 2.244970  [ 6464/60000]\n",
      "loss: 2.262033  [12864/60000]\n",
      "loss: 2.209453  [19264/60000]\n",
      "loss: 2.237423  [25664/60000]\n",
      "loss: 2.234699  [32064/60000]\n",
      "loss: 2.205138  [38464/60000]\n",
      "loss: 2.223561  [44864/60000]\n",
      "loss: 2.182846  [51264/60000]\n",
      "loss: 2.182479  [57664/60000]\n",
      "Test Error: \n",
      " Accuracy: 54.0%, Avg loss: 2.181837 \n",
      "\n",
      "Epoch 3\n",
      "-------------------------------\n",
      "loss: 2.173581  [   64/60000]\n",
      "loss: 2.168354  [ 6464/60000]\n",
      "loss: 2.197321  [12864/60000]\n",
      "loss: 2.113449  [19264/60000]\n",
      "loss: 2.159253  [25664/60000]\n",
      "loss: 2.151910  [32064/60000]\n",
      "loss: 2.094533  [38464/60000]\n",
      "loss: 2.139826  [44864/60000]\n",
      "loss: 2.071533  [51264/60000]\n",
      "loss: 2.060999  [57664/60000]\n",
      "Test Error: \n",
      " Accuracy: 59.3%, Avg loss: 2.061442 \n",
      "\n",
      "Epoch 4\n",
      "-------------------------------\n",
      "loss: 2.050826  [   64/60000]\n",
      "loss: 2.034487  [ 6464/60000]\n",
      "loss: 2.084537  [12864/60000]\n",
      "loss: 1.951362  [19264/60000]\n",
      "loss: 2.021069  [25664/60000]\n",
      "loss: 2.004820  [32064/60000]\n",
      "loss: 1.909888  [38464/60000]\n",
      "loss: 1.992833  [44864/60000]\n",
      "loss: 1.885432  [51264/60000]\n",
      "loss: 1.860755  [57664/60000]\n",
      "Test Error: \n",
      " Accuracy: 64.8%, Avg loss: 1.858668 \n",
      "\n",
      "Epoch 5\n",
      "-------------------------------\n",
      "loss: 1.851053  [   64/60000]\n",
      "loss: 1.812600  [ 6464/60000]\n",
      "loss: 1.887443  [12864/60000]\n",
      "loss: 1.700413  [19264/60000]\n",
      "loss: 1.784682  [25664/60000]\n",
      "loss: 1.760430  [32064/60000]\n",
      "loss: 1.633487  [38464/60000]\n",
      "loss: 1.761795  [44864/60000]\n",
      "loss: 1.613678  [51264/60000]\n",
      "loss: 1.577116  [57664/60000]\n",
      "Test Error: \n",
      " Accuracy: 70.6%, Avg loss: 1.564706 \n",
      "\n",
      "Finished Training\n"
     ]
    }
   ],
   "source": [
    "# Instantiate Model\n",
    "model = Model().to(device)\n",
    "loss_fn = nn.CrossEntropyLoss()\n",
    "optimizer = torch.optim.SGD(model.parameters(), lr=1e-3)\n",
    "\n",
    "print(\"Starting Training\")\n",
    "for t in range(epochs):\n",
    "    print(f\"Epoch {t + 1}\\n-------------------------------\")\n",
    "    train(train_dataloader, model, loss_fn, optimizer)\n",
    "    test(test_dataloader, model, loss_fn)\n",
    "print(\"Finished Training\")"
   ],
   "metadata": {
    "collapsed": false,
    "ExecuteTime": {
     "end_time": "2024-03-19T15:43:23.930575Z",
     "start_time": "2024-03-19T15:42:37.248847Z"
    }
   },
   "id": "aeff38cb5fd4d34d"
  },
  {
   "cell_type": "markdown",
   "source": [
    "Split Model"
   ],
   "metadata": {
    "collapsed": false
   },
   "id": "ff88840086bed237"
  },
  {
   "cell_type": "code",
   "execution_count": 47,
   "outputs": [],
   "source": [
    "shards = shard(model)"
   ],
   "metadata": {
    "collapsed": false,
    "ExecuteTime": {
     "end_time": "2024-03-19T20:28:11.436079Z",
     "start_time": "2024-03-19T20:28:11.432157Z"
    }
   },
   "id": "81ab9ce3b47c846"
  },
  {
   "cell_type": "markdown",
   "source": [
    "Save Shards"
   ],
   "metadata": {
    "collapsed": false
   },
   "id": "d81e1f60edb9938e"
  },
  {
   "cell_type": "code",
   "execution_count": 50,
   "outputs": [
    {
     "name": "stdout",
     "output_type": "stream",
     "text": [
      "Exported graph: graph(%input : Float(1, 1, 28, 28, strides=[784, 784, 28, 1], requires_grad=0, device=mps:0)):\n",
      "  %output : Float(1, 784, strides=[784, 1], requires_grad=0, device=mps:0) = onnx::Flatten[axis=1, onnx_name=\"/0/Flatten\"](%input), scope: torch.nn.modules.container.Sequential::/torch.nn.modules.flatten.Flatten::0 # /usr/local/lib/python3.9/site-packages/torch/nn/modules/flatten.py:49:0\n",
      "  return (%output)\n",
      "\n",
      "Saved model_2_shard_0.onnx\n",
      "Exported graph: graph(%input : Float(1, 784, strides=[784, 1], requires_grad=0, device=mps:0),\n",
      "      %0.0.weight : Float(512, 784, strides=[784, 1], requires_grad=1, device=mps:0),\n",
      "      %0.0.bias : Float(512, strides=[1], requires_grad=1, device=mps:0),\n",
      "      %0.2.weight : Float(512, 512, strides=[512, 1], requires_grad=1, device=mps:0),\n",
      "      %0.2.bias : Float(512, strides=[1], requires_grad=1, device=mps:0),\n",
      "      %0.4.weight : Float(10, 512, strides=[512, 1], requires_grad=1, device=mps:0),\n",
      "      %0.4.bias : Float(10, strides=[1], requires_grad=1, device=mps:0)):\n",
      "  %/0/0.0/Gemm_output_0 : Float(1, 512, strides=[512, 1], requires_grad=1, device=mps:0) = onnx::Gemm[alpha=1., beta=1., transB=1, onnx_name=\"/0/0.0/Gemm\"](%input, %0.0.weight, %0.0.bias), scope: torch.nn.modules.container.Sequential::/torch.nn.modules.container.Sequential::0/torch.nn.modules.linear.Linear::0.0 # /usr/local/lib/python3.9/site-packages/torch/nn/modules/linear.py:116:0\n",
      "  %/0/0.1/Relu_output_0 : Float(1, 512, strides=[512, 1], requires_grad=1, device=mps:0) = onnx::Relu[onnx_name=\"/0/0.1/Relu\"](%/0/0.0/Gemm_output_0), scope: torch.nn.modules.container.Sequential::/torch.nn.modules.container.Sequential::0/torch.nn.modules.activation.ReLU::0.1 # /usr/local/lib/python3.9/site-packages/torch/nn/functional.py:1473:0\n",
      "  %/0/0.2/Gemm_output_0 : Float(1, 512, strides=[512, 1], requires_grad=1, device=mps:0) = onnx::Gemm[alpha=1., beta=1., transB=1, onnx_name=\"/0/0.2/Gemm\"](%/0/0.1/Relu_output_0, %0.2.weight, %0.2.bias), scope: torch.nn.modules.container.Sequential::/torch.nn.modules.container.Sequential::0/torch.nn.modules.linear.Linear::0.2 # /usr/local/lib/python3.9/site-packages/torch/nn/modules/linear.py:116:0\n",
      "  %/0/0.3/Relu_output_0 : Float(1, 512, strides=[512, 1], requires_grad=1, device=mps:0) = onnx::Relu[onnx_name=\"/0/0.3/Relu\"](%/0/0.2/Gemm_output_0), scope: torch.nn.modules.container.Sequential::/torch.nn.modules.container.Sequential::0/torch.nn.modules.activation.ReLU::0.3 # /usr/local/lib/python3.9/site-packages/torch/nn/functional.py:1473:0\n",
      "  %output : Float(1, 10, strides=[10, 1], requires_grad=1, device=mps:0) = onnx::Gemm[alpha=1., beta=1., transB=1, onnx_name=\"/0/0.4/Gemm\"](%/0/0.3/Relu_output_0, %0.4.weight, %0.4.bias), scope: torch.nn.modules.container.Sequential::/torch.nn.modules.container.Sequential::0/torch.nn.modules.linear.Linear::0.4 # /usr/local/lib/python3.9/site-packages/torch/nn/modules/linear.py:116:0\n",
      "  return (%output)\n",
      "\n",
      "Saved model_2_shard_1.onnx\n"
     ]
    }
   ],
   "source": [
    "# This has to be \n",
    "sample_input_tensor = torch.randn(1, 1, 28, 28).to(device)\n",
    "for i in range(len(shards)):\n",
    "    MODEL_FILE = f\"{MODEL_SPLIT_PREFIX}_shard_{i}.onnx\"\n",
    "    model_shard = shards[i]\n",
    "    torch.onnx.export(\n",
    "        model=model_shard,\n",
    "        args=sample_input_tensor,\n",
    "        f=f\"{MODEL_DIR}/{MODEL_FILE}\",\n",
    "        verbose=True,\n",
    "        input_names=['input'],\n",
    "        output_names=['output']\n",
    "    )\n",
    "    print(f\"Saved {MODEL_FILE}\")\n",
    "    \n",
    "    # Update sample input tensor for next layer/stack of layers\n",
    "    model_shard.eval()\n",
    "    sample_input_tensor = model_shard(sample_input_tensor)"
   ],
   "metadata": {
    "collapsed": false,
    "ExecuteTime": {
     "end_time": "2024-03-19T20:29:31.472161Z",
     "start_time": "2024-03-19T20:29:31.392810Z"
    }
   },
   "id": "ddfef988b2f62889"
  }
 ],
 "metadata": {
  "kernelspec": {
   "display_name": "Python 3",
   "language": "python",
   "name": "python3"
  },
  "language_info": {
   "codemirror_mode": {
    "name": "ipython",
    "version": 2
   },
   "file_extension": ".py",
   "mimetype": "text/x-python",
   "name": "python",
   "nbconvert_exporter": "python",
   "pygments_lexer": "ipython2",
   "version": "2.7.6"
  }
 },
 "nbformat": 4,
 "nbformat_minor": 5
}
