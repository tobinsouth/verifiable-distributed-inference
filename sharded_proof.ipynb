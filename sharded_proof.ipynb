{
 "cells": [
  {
   "cell_type": "markdown",
   "source": [
    "Imports"
   ],
   "metadata": {
    "collapsed": false
   },
   "id": "8a9d16b54518f374"
  },
  {
   "cell_type": "code",
   "execution_count": 9,
   "id": "initial_id",
   "metadata": {
    "collapsed": true,
    "ExecuteTime": {
     "end_time": "2024-03-20T19:29:14.563797Z",
     "start_time": "2024-03-20T19:29:14.563215Z"
    }
   },
   "outputs": [],
   "source": [
    "import json\n",
    "import re\n",
    "import ezkl\n",
    "import os\n",
    "import onnxruntime as ort\n",
    "import torchvision\n",
    "import numpy as np"
   ]
  },
  {
   "cell_type": "markdown",
   "source": [
    "Constants"
   ],
   "metadata": {
    "collapsed": false
   },
   "id": "ce79a7d8457a5f0c"
  },
  {
   "cell_type": "code",
   "execution_count": 10,
   "outputs": [],
   "source": [
    "PY_RUN_ARGS = ezkl.PyRunArgs()\n",
    "PY_RUN_ARGS.input_visibility = \"public\"\n",
    "PY_RUN_ARGS.output_visibility = \"public\"\n",
    "PY_RUN_ARGS.param_visibility = \"fixed\"\n",
    "MODEL_DIR = \"./model\"\n",
    "DATA_DIR = \"./data\"\n",
    "PROOF_DIR = \"./proof\"\n",
    "# Either resources or accuracy\n",
    "EZKL_OPTIMIZATION_GOAL = \"resources\"\n",
    "MODEL_ID = \"model_2\""
   ],
   "metadata": {
    "collapsed": false,
    "ExecuteTime": {
     "end_time": "2024-03-20T19:29:15.787149Z",
     "start_time": "2024-03-20T19:29:15.783924Z"
    }
   },
   "id": "899e43528b8fccba"
  },
  {
   "cell_type": "markdown",
   "source": [
    "Setup & Helper Functions"
   ],
   "metadata": {
    "collapsed": false
   },
   "id": "8698f2bbabfac0e"
  },
  {
   "cell_type": "code",
   "execution_count": 11,
   "outputs": [],
   "source": [
    "os.makedirs(PROOF_DIR, exist_ok=True)\n",
    "\n",
    "def fetch_test_data():\n",
    "    test_data = torchvision.datasets.MNIST(root=DATA_DIR, train=False, download=False, transform=torchvision.transforms.ToTensor())\n",
    "    return fetch_first_image(test_data)\n",
    "\n",
    "def fetch_first_image(data):\n",
    "    image, _ = data[0]\n",
    "    np_image = image.numpy()[np.newaxis, :]\n",
    "    return np_image\n",
    "    \n",
    "    \n",
    "# Set input_data to the output of the previous shard. Doesn't need to be set for the first shard.\n",
    "def generate_example_model_output(model_path, data_path, input_data=None):\n",
    "    ort_session = ort.InferenceSession(model_path)\n",
    "    if input_data is None:\n",
    "        input_data = fetch_test_data()\n",
    "    output_data = ort_session.run(None, {'input': input_data})\n",
    "    witness_data = dict(input_shapes=[input_data.shape],\n",
    "                        input_data=[input_data.reshape([-1]).tolist()],\n",
    "                        output_data=[o.reshape([-1]).tolist() for o in output_data])\n",
    "    with open(data_path, 'w') as f:\n",
    "        json.dump(witness_data, f)\n",
    "    # The first element in output_data is the actual NumPy ndarray we need to pass to the function when we call it for\n",
    "    # the next shard.\n",
    "    return output_data[0] \n",
    "    \n",
    "    \n",
    "def get_number_of_shards(model_id):\n",
    "    pattern = re.compile(f\"{model_id}_shard_(\\d+).onnx\")\n",
    "    highest_shard_id = -1\n",
    "    for file in os.listdir(MODEL_DIR):\n",
    "        match = pattern.match(file)\n",
    "        if match:\n",
    "            match_shard_id = int(match.group(1))\n",
    "            if match_shard_id > highest_shard_id:\n",
    "                highest_shard_id = match_shard_id\n",
    "    return highest_shard_id\n",
    "        \n",
    "        \n",
    "    "
   ],
   "metadata": {
    "collapsed": false,
    "ExecuteTime": {
     "end_time": "2024-03-20T19:29:17.064333Z",
     "start_time": "2024-03-20T19:29:17.056157Z"
    }
   },
   "id": "59776f3638ed7187"
  },
  {
   "cell_type": "code",
   "execution_count": 12,
   "outputs": [],
   "source": [
    "def generate_proof(shard_id, previous_shard_output):\n",
    "    MODEL_PATH = f\"{MODEL_DIR}/{MODEL_ID}_shard_{shard_id}.onnx\"\n",
    "    SETTINGS_PATH = f\"{PROOF_DIR}/{MODEL_ID}_shard_{shard_id}_settings.json\"\n",
    "    DATA_PATH = f\"{PROOF_DIR}/{MODEL_ID}_shard_{shard_id}_data.json\"\n",
    "    COMPILED_MODEL_PATH = f\"{PROOF_DIR}/{MODEL_ID}_shard_{shard_id}_network.compiled\"\n",
    "    SRS_PATH = f\"{PROOF_DIR}/{MODEL_ID}_shard_{shard_id}_kzg.srs\"\n",
    "    VK_PATH = f\"{PROOF_DIR}/{MODEL_ID}_shard_{shard_id}_vk.key\"\n",
    "    PK_PATH = f\"{PROOF_DIR}/{MODEL_ID}_shard_{shard_id}_pk.key\"\n",
    "    WITNESS_PATH = f\"{PROOF_DIR}/{MODEL_ID}_shard_{shard_id}_witness.json\"\n",
    "    PROOF_PATH = f\"{PROOF_DIR}/{MODEL_ID}_shard_{shard_id}_proof.pf\"\n",
    "    \n",
    "    # Generate Settings File\n",
    "    res = ezkl.gen_settings(\n",
    "        model=MODEL_PATH,\n",
    "        output=SETTINGS_PATH,\n",
    "        py_run_args=PY_RUN_ARGS\n",
    "    )\n",
    "    assert res == True\n",
    "    \n",
    "    # Calibrate Settings\n",
    "    # We only need to save the intermediate output here, as the witness data is placed in `DATA_PATH`.\n",
    "    DATA_OUTPUT = generate_example_model_output(MODEL_PATH, DATA_PATH, previous_shard_output)\n",
    "    res = ezkl.calibrate_settings(\n",
    "        data=DATA_PATH,\n",
    "        model=MODEL_PATH,\n",
    "        settings=SETTINGS_PATH,\n",
    "        target=EZKL_OPTIMIZATION_GOAL\n",
    "    )\n",
    "    assert res == True\n",
    "    \n",
    "    # Compile model to a circuit\n",
    "    res = ezkl.compile_circuit(\n",
    "        model=MODEL_PATH,\n",
    "        compiled_circuit=COMPILED_MODEL_PATH,\n",
    "        settings_path=SETTINGS_PATH\n",
    "    )\n",
    "    assert res == True\n",
    "    \n",
    "    # (Down)load an SRS String\n",
    "    res = ezkl.get_srs(\n",
    "        settings_path=SETTINGS_PATH,\n",
    "        logrows=None,\n",
    "        srs_path=SRS_PATH\n",
    "    )\n",
    "    assert res == True\n",
    "    assert os.path.isfile(SRS_PATH)\n",
    "    \n",
    "    # Setup Proof\n",
    "    res = ezkl.setup(\n",
    "        model=COMPILED_MODEL_PATH,\n",
    "        vk_path=VK_PATH,\n",
    "        pk_path=PK_PATH,\n",
    "        srs_path=SRS_PATH\n",
    "    )\n",
    "    assert res == True\n",
    "    assert os.path.isfile(VK_PATH)\n",
    "    assert os.path.isfile(PK_PATH)\n",
    "    \n",
    "    # Generate witness file\n",
    "    res = ezkl.gen_witness(\n",
    "        data=DATA_PATH,\n",
    "        model=COMPILED_MODEL_PATH,\n",
    "        output=WITNESS_PATH\n",
    "    )\n",
    "    assert os.path.isfile(WITNESS_PATH)\n",
    "    \n",
    "    # Create ZK-SNARK for the execution of the model\n",
    "    res = ezkl.prove(\n",
    "        witness=WITNESS_PATH,\n",
    "        model=COMPILED_MODEL_PATH,\n",
    "        pk_path=PK_PATH,\n",
    "        proof_path=PROOF_PATH,\n",
    "        srs_path=SRS_PATH\n",
    "    )\n",
    "    assert os.path.isfile(PROOF_PATH)\n",
    "    \n",
    "    # Return the intermediate output of the shard, as this is needed for the subsequent proof.\n",
    "    return DATA_OUTPUT, PROOF_PATH, SETTINGS_PATH, VK_PATH, SRS_PATH\n",
    "    \n",
    "    \n",
    "def verify_proof(proof_path, settings_path, vk_path, srs_path):\n",
    "    #Verify proof\n",
    "    res = ezkl.verify(\n",
    "        proof_path=proof_path,\n",
    "        settings_path=settings_path,\n",
    "        vk_path=vk_path,\n",
    "        srs_path=srs_path\n",
    "    )\n",
    "    assert res == True\n",
    "    \n",
    "    "
   ],
   "metadata": {
    "collapsed": false,
    "ExecuteTime": {
     "end_time": "2024-03-20T19:29:19.115691Z",
     "start_time": "2024-03-20T19:29:19.108521Z"
    }
   },
   "id": "f1530ecf13c2633f"
  },
  {
   "cell_type": "markdown",
   "source": [
    "Prove Shard(s)"
   ],
   "metadata": {
    "collapsed": false
   },
   "id": "f45f1240d38bf38e"
  },
  {
   "cell_type": "code",
   "execution_count": 13,
   "outputs": [
    {
     "name": "stderr",
     "output_type": "stream",
     "text": [
      "\n",
      "\n",
      " <------------- Numerical Fidelity Report (input_scale: 13, param_scale: 13, scale_input_multiplier: 10) ------------->\n",
      "\n",
      "+------------------+--------------+----------------+-----------------+-----------------+------------------+----------------+---------------+---------------------+--------------------+------------------------+\n",
      "| mean_error       | median_error | max_error      | min_error       | mean_abs_error  | median_abs_error | max_abs_error  | min_abs_error | mean_squared_error  | mean_percent_error | mean_abs_percent_error |\n",
      "+------------------+--------------+----------------+-----------------+-----------------+------------------+----------------+---------------+---------------------+--------------------+------------------------+\n",
      "| 0.00000012489642 | 0            | 0.000060796738 | -0.000058874488 | 0.0000044188305 | 0                | 0.000060796738 | 0             | 0.00000000017286579 | NaN                | NaN                    |\n",
      "+------------------+--------------+----------------+-----------------+-----------------+------------------+----------------+---------------+---------------------+--------------------+------------------------+\n",
      "\n",
      "\n"
     ]
    },
    {
     "name": "stdout",
     "output_type": "stream",
     "text": [
      "Proof of Shard 0 generated at ./proof/model_2_shard_0_proof.pf\n",
      "Proof of Shard 0 verified\n"
     ]
    },
    {
     "name": "stderr",
     "output_type": "stream",
     "text": [
      "Using 4 columns for non-linearity table.\n",
      "Using 4 columns for non-linearity table.\n",
      "Using 4 columns for non-linearity table.\n",
      "Using 8 columns for non-linearity table.\n",
      "Using 8 columns for non-linearity table.\n",
      "Using 8 columns for non-linearity table.\n",
      "Using 2 columns for non-linearity table.\n",
      "Using 4 columns for non-linearity table.\n",
      "Using 4 columns for non-linearity table.\n",
      "Using 4 columns for non-linearity table.\n",
      "Using 4 columns for non-linearity table.\n",
      "Using 4 columns for non-linearity table.\n",
      "Using 8 columns for non-linearity table.\n",
      "Using 8 columns for non-linearity table.\n",
      "Using 8 columns for non-linearity table.\n",
      "Using 2 columns for non-linearity table.\n",
      "Using 4 columns for non-linearity table.\n",
      "Using 4 columns for non-linearity table.\n",
      "Using 4 columns for non-linearity table.\n",
      "Using 4 columns for non-linearity table.\n",
      "Using 8 columns for non-linearity table.\n",
      "Using 8 columns for non-linearity table.\n",
      "Using 3 columns for non-linearity table.\n",
      "Using 6 columns for non-linearity table.\n",
      "Using 11 columns for non-linearity table.\n",
      "Using 11 columns for non-linearity table.\n",
      "\n",
      "\n",
      " <------------- Numerical Fidelity Report (input_scale: 13, param_scale: 13, scale_input_multiplier: 1) ------------->\n",
      "\n",
      "+----------------+-----------------+---------------+----------------+----------------+------------------+---------------+----------------+--------------------+--------------------+------------------------+\n",
      "| mean_error     | median_error    | max_error     | min_error      | mean_abs_error | median_abs_error | max_abs_error | min_abs_error  | mean_squared_error | mean_percent_error | mean_abs_percent_error |\n",
      "+----------------+-----------------+---------------+----------------+----------------+------------------+---------------+----------------+--------------------+--------------------+------------------------+\n",
      "| 0.000031577052 | -0.000011608005 | 0.00037804246 | -0.00021672249 | 0.00017185956  | 0.000011608005   | 0.00037804246 | 0.000008523464 | 0.00000004393121   | 0.00020381165      | 0.001083384            |\n",
      "+----------------+-----------------+---------------+----------------+----------------+------------------+---------------+----------------+--------------------+--------------------+------------------------+\n",
      "\n",
      "\n"
     ]
    },
    {
     "name": "stdout",
     "output_type": "stream",
     "text": [
      "Proof of Shard 1 generated at ./proof/model_2_shard_1_proof.pf\n",
      "Proof of Shard 1 verified\n"
     ]
    }
   ],
   "source": [
    "num_shards = get_number_of_shards(MODEL_ID)\n",
    "previous_shard_output = None\n",
    "for shard_id in range(num_shards+1):\n",
    "    previous_shard_output, proof_path, settings_path, vk_path, srs_path = generate_proof(\n",
    "        shard_id=shard_id,\n",
    "        previous_shard_output=previous_shard_output\n",
    "    )\n",
    "    print(f\"Proof of Shard {shard_id} generated at {proof_path}\")\n",
    "    \n",
    "    # Added to ensure proofs are correct\n",
    "    verify_proof(proof_path, settings_path, vk_path, srs_path)\n",
    "    print(f\"Proof of Shard {shard_id} verified\")\n",
    "    num_shards += 1\n",
    "    \n",
    "print(f\"Completed processing for {num_shards} shards\")"
   ],
   "metadata": {
    "collapsed": false,
    "ExecuteTime": {
     "end_time": "2024-03-20T19:31:57.150078Z",
     "start_time": "2024-03-20T19:29:30.443681Z"
    }
   },
   "id": "e8dbfe3111971c63"
  }
 ],
 "metadata": {
  "kernelspec": {
   "display_name": "Python 3",
   "language": "python",
   "name": "python3"
  },
  "language_info": {
   "codemirror_mode": {
    "name": "ipython",
    "version": 2
   },
   "file_extension": ".py",
   "mimetype": "text/x-python",
   "name": "python",
   "nbconvert_exporter": "python",
   "pygments_lexer": "ipython2",
   "version": "2.7.6"
  }
 },
 "nbformat": 4,
 "nbformat_minor": 5
}
